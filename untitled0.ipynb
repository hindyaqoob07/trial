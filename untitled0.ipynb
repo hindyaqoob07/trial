{
  "nbformat": 4,
  "nbformat_minor": 0,
  "metadata": {
    "colab": {
      "provenance": [],
      "authorship_tag": "ABX9TyP5s8KVgqYGmxtoYADN0OOs",
      "include_colab_link": true
    },
    "kernelspec": {
      "name": "python3",
      "display_name": "Python 3"
    },
    "language_info": {
      "name": "python"
    }
  },
  "cells": [
    {
      "cell_type": "markdown",
      "metadata": {
        "id": "view-in-github",
        "colab_type": "text"
      },
      "source": [
        "<a href=\"https://colab.research.google.com/github/hindyaqoob07/trial/blob/main/untitled0.ipynb\" target=\"_parent\"><img src=\"https://colab.research.google.com/assets/colab-badge.svg\" alt=\"Open In Colab\"/></a>"
      ]
    },
    {
      "cell_type": "code",
      "execution_count": null,
      "metadata": {
        "colab": {
          "base_uri": "https://localhost:8080/"
        },
        "id": "Z4aV-cA1DTGs",
        "outputId": "894c4d54-4556-48c6-f52d-d0d26c418038"
      },
      "outputs": [
        {
          "output_type": "stream",
          "name": "stdout",
          "text": [
            "Iterative Result:\n",
            "Hind : The chocolate type is: dark , the brand is: Godiva, the weight is:25, the price is:30.25\n",
            "Abdulla : The chocolate type is: dark , the brand is: Cadbury, the weight is:20, the price is:25.99\n",
            "Rashid : The chocolate type is: milk , the brand is: Hershey's, the weight is:15, the price is:15.5\n",
            "Noora : The chocolate type is: milk , the brand is: Lindt, the weight is:30, the price is:13.49\n",
            "Hissa : The chocolate type is: white , the brand is: Nestle, the weight is:10, the price is:10.75\n",
            "\n",
            "Recursive Result:\n",
            "Hind : The chocolate type is: dark , the brand is: Godiva, the weight is:25, the price is:30.25\n",
            "Abdulla : The chocolate type is: dark , the brand is: Cadbury, the weight is:20, the price is:25.99\n",
            "Rashid : The chocolate type is: milk , the brand is: Hershey's, the weight is:15, the price is:15.5\n",
            "Noora : The chocolate type is: milk , the brand is: Lindt, the weight is:30, the price is:13.49\n",
            "Hissa : The chocolate type is: white , the brand is: Nestle, the weight is:10, the price is:10.75\n"
          ]
        }
      ],
      "source": [
        "class Chocolate: # This line defines a new class named Chocolate\n",
        "    def __init__(self, weight, price, type, brand):#This line defines a special method called __init__, which is a constructor method used to initialize objects of the class. It takes four parameters: weight, price, type, and brand.\n",
        "        self.weight = weight # This line sets the weight attribute of the chocolate object to the value passed as the weight parameter\n",
        "        self.price = price # This line sets the price attribute of the chocolate object to the value passed as the price parameter.\n",
        "        self.type = type  # This line sets the type attribute of the chocolate object to the value passed as the type parameter\n",
        "        self.brand = brand # This line sets the brand attribute of the chocolate object to the value passed as the brand parameter.\n",
        "\n",
        "def distribute_chocolates_iter(chocolates, students):#This line defines a function for the iterative method\n",
        "    if len(chocolates) < len(students):# This line presents an if statement that checks if the number of chocolates is less than the number of students.\n",
        "        return \"Not enough chocolates for each student\" #If the condition is met the code would return 'Not enough chocolates for each student'\n",
        "\n",
        "    chocolates.sort(key=lambda x: (x.price, x.weight), reverse=True) # This line sorts chocolates by price and weight in descending order\n",
        "\n",
        "    result = {} #This is an empty dictionary that will store the results\n",
        "    for i, student in enumerate(students): #Loop over each student with their index\n",
        "        result[student] = chocolates[i] #This line assigns each student a chocolate based on the sorted list\n",
        "    return result #This line returns a dictionary of the results\n",
        "\n",
        "def distribute_chocolates_rec(chocolates, students, result=None):#This line defines a function for the recursive method\n",
        "    if len(chocolates) < len(students): #This line presents an if statement that checks if the number of chocolates is less than the number of students.\n",
        "        return \"Not enough chocolates for each student\" #If the condition is met the code would return 'Not enough chocolates for each student'\n",
        "\n",
        "    if result is None:#This line checks if the result dictionary is not provided\n",
        "        result = {} #This line intilaizes the result dictionary if it's not provided\n",
        "\n",
        "    if not students: #This line checks if there are no more students left\n",
        "        return result #This line returns the result dictionary when all students have been assigned chocolates\n",
        "\n",
        "    result[students[0]] = chocolates.pop(0) #This line assigns chocolate to the first student and remove it from the list\n",
        "    return distribute_chocolates_rec(chocolates, students[1:], result) #This line is a recursive call to assign chocolates to remaining students\n",
        "\n",
        "# The Test Cases\n",
        "chocolates = [\n",
        "    Chocolate(20, 25.99, \"dark\", \"Cadbury\"),\n",
        "    Chocolate(15, 15.50, \"milk\", \"Hershey's\"),\n",
        "    Chocolate(10, 10.75, \"white\", \"Nestle\"),\n",
        "    Chocolate(25, 30.25, \"dark\", \"Godiva\"),\n",
        "    Chocolate(30, 13.49, \"milk\", \"Lindt\"),\n",
        "] #This line defines a list of Chocolate objects with various attributes\n",
        "\n",
        "students = [\"Hind\", \"Abdulla\", \"Rashid\", \"Noora\", \"Hissa\"] #This line defines a list of students\n",
        "\n",
        "# Testing the iterative function\n",
        "print(\"Iterative Result:\") #This line prints a message indicating the start of iterative result printing\n",
        "iterative_result = distribute_chocolates_iter(chocolates, students) #This line calls the iterative function to distribute chocolates\n",
        "for student, chocolate in iterative_result.items(): #This line iterates over the result dictionary\n",
        "    print(f'{student} : The chocolate type is: {chocolate.type} , the brand is: {chocolate.brand}, the weight is:{chocolate.weight}, the price is:{chocolate.price}') #This line will print each students name with the assigned chocolate type, weight , price and brand.\n",
        "\n",
        "# Testing the recursive function\n",
        "print(\"\\nRecursive Result:\") #This line prints a message indicating the start of recursive result printing\n",
        "recursive_result = distribute_chocolates_rec(chocolates, students) #This line calls the recusrive function to distribute chocolates\n",
        "for student, chocolate in recursive_result.items():  #This line iterates over the result dictionary\n",
        "    print(f'{student} : The chocolate type is: {chocolate.type} , the brand is: {chocolate.brand}, the weight is:{chocolate.weight}, the price is:{chocolate.price}') #This line will print each students name with the assigned chocolate type, weight , price and brand.\n"
      ]
    }
  ]
}